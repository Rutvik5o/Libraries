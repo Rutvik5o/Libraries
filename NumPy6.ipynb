{
 "cells": [
  {
   "cell_type": "code",
   "execution_count": 1,
   "id": "026a09e4-468c-4513-9b95-c2ae61e29b91",
   "metadata": {},
   "outputs": [],
   "source": [
    "### Vectorization is when NumPy applies operations to multiple array\n",
    "### elemenets simultaneouly using efficient CPU instructions, bypassing slow python loops."
   ]
  },
  {
   "cell_type": "code",
   "execution_count": 3,
   "id": "8665b6fd-3ce4-4d95-8ad0-549fcd46fe91",
   "metadata": {},
   "outputs": [],
   "source": [
    "### Broadcasting is when NumPy automcatilly expands arrays of differnt shapes to make them compatible for \n",
    "### element-wise operation without actully replicating data in memory.\n",
    "### BroadCasting: scaling arrays without extra memory"
   ]
  },
  {
   "cell_type": "code",
   "execution_count": 5,
   "id": "17a6b0d6-efbd-4a18-b677-e6946d7461e1",
   "metadata": {},
   "outputs": [],
   "source": [
    "import numpy as np\n"
   ]
  },
  {
   "cell_type": "code",
   "execution_count": 7,
   "id": "2f79ea03-a33a-46f0-8690-a7132ecb878e",
   "metadata": {},
   "outputs": [],
   "source": [
    "arr = np.array([1,2,3,4,5])"
   ]
  },
  {
   "cell_type": "code",
   "execution_count": 9,
   "id": "f84042e8-4dcd-4775-aa98-e701b9984d8c",
   "metadata": {},
   "outputs": [],
   "source": [
    "result = arr ** 2"
   ]
  },
  {
   "cell_type": "code",
   "execution_count": 11,
   "id": "9f1ff609-2974-4e38-861f-e6cd5e6cd115",
   "metadata": {},
   "outputs": [
    {
     "data": {
      "text/plain": [
       "array([ 1,  4,  9, 16, 25])"
      ]
     },
     "execution_count": 11,
     "metadata": {},
     "output_type": "execute_result"
    }
   ],
   "source": [
    "result"
   ]
  },
  {
   "cell_type": "code",
   "execution_count": 13,
   "id": "e1f408b4-6bc2-473f-a910-7ea3d10b6706",
   "metadata": {},
   "outputs": [
    {
     "data": {
      "text/plain": [
       "array([11, 12, 13, 14, 15])"
      ]
     },
     "execution_count": 13,
     "metadata": {},
     "output_type": "execute_result"
    }
   ],
   "source": [
    "result = arr + 10 #broadcasting\n",
    "result"
   ]
  },
  {
   "cell_type": "code",
   "execution_count": null,
   "id": "883452a0-b46b-4f5e-8319-e20b5dbc8331",
   "metadata": {},
   "outputs": [],
   "source": [
    "## Here the scaler 10 is \"broadcast\" across the entire array,\n",
    "## and no extra memoery is used."
   ]
  },
  {
   "cell_type": "markdown",
   "id": "165cf6c2-066d-4d32-aa17-6cdde2be0493",
   "metadata": {},
   "source": [
    "## BroadCasting in 2D array"
   ]
  },
  {
   "cell_type": "code",
   "execution_count": 26,
   "id": "cd8bb678-5d6f-4246-ae00-becd5eeb8a62",
   "metadata": {},
   "outputs": [
    {
     "data": {
      "text/plain": [
       "array([[2, 4, 6],\n",
       "       [5, 7, 9]])"
      ]
     },
     "execution_count": 26,
     "metadata": {},
     "output_type": "execute_result"
    }
   ],
   "source": [
    "arr1 = np.array([[1,2,3],[4,5,6]])\n",
    "arr2 = np.array([1,2,3])\n",
    "result = arr1 + arr2\n",
    "result"
   ]
  },
  {
   "cell_type": "markdown",
   "id": "5dd83e82-f07e-4137-9090-9261a57271bb",
   "metadata": {},
   "source": [
    " ## Ex: Normalizing Data Using BroadCasting"
   ]
  },
  {
   "cell_type": "code",
   "execution_count": 34,
   "id": "11328ad9-12f9-4321-b9d9-3a6f8cbb79c3",
   "metadata": {},
   "outputs": [],
   "source": [
    "data = np.array([[10,20,30],\n",
    "                [40,50,60],\n",
    "                [70,80,90],\n",
    "                [43,5,23]])"
   ]
  },
  {
   "cell_type": "code",
   "execution_count": 38,
   "id": "9e3dfbaa-ed46-4815-903c-0d92803ebabc",
   "metadata": {},
   "outputs": [],
   "source": [
    "mean = data.mean(axis=0)\n",
    "std = data.std(axis=0)\n",
    "#calculating mean and SD deviation for each feature column"
   ]
  },
  {
   "cell_type": "code",
   "execution_count": 44,
   "id": "6f1742ba-fce6-422d-8daf-b5fc43ce4893",
   "metadata": {},
   "outputs": [],
   "source": [
    "normalized_data = (data-mean)/std\n",
    "#Normalizing the data using broadcasting"
   ]
  },
  {
   "cell_type": "code",
   "execution_count": 42,
   "id": "3723ff71-028c-449c-9f87-2d715b6cadd0",
   "metadata": {},
   "outputs": [
    {
     "data": {
      "text/plain": [
       "array([[-1.44685858, -0.65094455, -0.78055659],\n",
       "       [-0.03528923,  0.39056673,  0.34795896],\n",
       "       [ 1.37628011,  1.43207802,  1.47647452],\n",
       "       [ 0.1058677 , -1.1717002 , -1.04387689]])"
      ]
     },
     "execution_count": 42,
     "metadata": {},
     "output_type": "execute_result"
    }
   ],
   "source": [
    "normalized_data"
   ]
  },
  {
   "cell_type": "code",
   "execution_count": null,
   "id": "19df14de-4140-4dd6-8157-1b499c713c39",
   "metadata": {},
   "outputs": [],
   "source": []
  }
 ],
 "metadata": {
  "kernelspec": {
   "display_name": "Python 3 (ipykernel)",
   "language": "python",
   "name": "python3"
  },
  "language_info": {
   "codemirror_mode": {
    "name": "ipython",
    "version": 3
   },
   "file_extension": ".py",
   "mimetype": "text/x-python",
   "name": "python",
   "nbconvert_exporter": "python",
   "pygments_lexer": "ipython3",
   "version": "3.12.4"
  }
 },
 "nbformat": 4,
 "nbformat_minor": 5
}
