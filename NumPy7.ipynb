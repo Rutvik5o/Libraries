{
 "cells": [
  {
   "cell_type": "code",
   "execution_count": 1,
   "id": "d8b4bd90-3996-4d0a-b0de-68ca9ef5b658",
   "metadata": {},
   "outputs": [],
   "source": [
    "import numpy as np"
   ]
  },
  {
   "cell_type": "code",
   "execution_count": 35,
   "id": "aa2918ef-f102-48d2-82b7-10c929033809",
   "metadata": {},
   "outputs": [],
   "source": [
    "arr = np.array([3,50,2,34,3,3,30,33])"
   ]
  },
  {
   "cell_type": "code",
   "execution_count": 5,
   "id": "10afba15-446f-421c-ae32-af7cf896c0c4",
   "metadata": {},
   "outputs": [
    {
     "data": {
      "text/plain": [
       "10.75"
      ]
     },
     "execution_count": 5,
     "metadata": {},
     "output_type": "execute_result"
    }
   ],
   "source": [
    "np.mean(arr)"
   ]
  },
  {
   "cell_type": "code",
   "execution_count": 7,
   "id": "8f2d5ef2-d92a-48b3-81a8-2b531484c090",
   "metadata": {},
   "outputs": [
    {
     "data": {
      "text/plain": [
       "2"
      ]
     },
     "execution_count": 7,
     "metadata": {},
     "output_type": "execute_result"
    }
   ],
   "source": [
    "np.min(arr)"
   ]
  },
  {
   "cell_type": "code",
   "execution_count": 9,
   "id": "60963d0e-27c9-4fae-ab5c-4c496e4371e4",
   "metadata": {},
   "outputs": [
    {
     "data": {
      "text/plain": [
       "33"
      ]
     },
     "execution_count": 9,
     "metadata": {},
     "output_type": "execute_result"
    }
   ],
   "source": [
    "np.max(arr)"
   ]
  },
  {
   "cell_type": "code",
   "execution_count": 11,
   "id": "4bb68cb3-6530-4642-a0c3-c0ea58faf368",
   "metadata": {},
   "outputs": [
    {
     "data": {
      "text/plain": [
       "12.891373084353738"
      ]
     },
     "execution_count": 11,
     "metadata": {},
     "output_type": "execute_result"
    }
   ],
   "source": [
    "np.std(arr)"
   ]
  },
  {
   "cell_type": "code",
   "execution_count": 13,
   "id": "90df676d-04cd-44ad-86b7-990ecd4832ea",
   "metadata": {},
   "outputs": [
    {
     "data": {
      "text/plain": [
       "166.1875"
      ]
     },
     "execution_count": 13,
     "metadata": {},
     "output_type": "execute_result"
    }
   ],
   "source": [
    "np.var(arr)\n"
   ]
  },
  {
   "cell_type": "code",
   "execution_count": 15,
   "id": "690254a5-686f-493d-bbee-4cab8bc3e129",
   "metadata": {},
   "outputs": [
    {
     "data": {
      "text/plain": [
       "43"
      ]
     },
     "execution_count": 15,
     "metadata": {},
     "output_type": "execute_result"
    }
   ],
   "source": [
    "np.sum(arr)"
   ]
  },
  {
   "cell_type": "code",
   "execution_count": 17,
   "id": "255b42ed-eec1-4369-ab7c-91bcc30f9c04",
   "metadata": {},
   "outputs": [
    {
     "data": {
      "text/plain": [
       "990"
      ]
     },
     "execution_count": 17,
     "metadata": {},
     "output_type": "execute_result"
    }
   ],
   "source": [
    "np.prod(arr)"
   ]
  },
  {
   "cell_type": "code",
   "execution_count": 21,
   "id": "3d7501b6-2991-4003-b24c-e3116b94d6b8",
   "metadata": {},
   "outputs": [
    {
     "data": {
      "text/plain": [
       "4.0"
      ]
     },
     "execution_count": 21,
     "metadata": {},
     "output_type": "execute_result"
    }
   ],
   "source": [
    "np.percentile(arr,50)"
   ]
  },
  {
   "cell_type": "code",
   "execution_count": 25,
   "id": "502d18d7-9250-425e-85bb-a73d5cc178e5",
   "metadata": {},
   "outputs": [
    {
     "data": {
      "text/plain": [
       "2"
      ]
     },
     "execution_count": 25,
     "metadata": {},
     "output_type": "execute_result"
    }
   ],
   "source": [
    "np.argmin(arr) #return index of min value"
   ]
  },
  {
   "cell_type": "code",
   "execution_count": 27,
   "id": "eef2b0cd-1b67-47a9-9b46-4ce9acb14a66",
   "metadata": {},
   "outputs": [
    {
     "data": {
      "text/plain": [
       "3"
      ]
     },
     "execution_count": 27,
     "metadata": {},
     "output_type": "execute_result"
    }
   ],
   "source": [
    "np.argmax(arr)"
   ]
  },
  {
   "cell_type": "code",
   "execution_count": 29,
   "id": "0d46d49c-c5f0-4f95-8b15-353d92c90d4a",
   "metadata": {},
   "outputs": [
    {
     "data": {
      "text/plain": [
       "1.0"
      ]
     },
     "execution_count": 29,
     "metadata": {},
     "output_type": "execute_result"
    }
   ],
   "source": [
    "np.corrcoef(arr)"
   ]
  },
  {
   "cell_type": "code",
   "execution_count": 37,
   "id": "ce5ba43f-f0f3-4458-a5ba-d2ee53773d68",
   "metadata": {},
   "outputs": [
    {
     "data": {
      "text/plain": [
       "array([ 2,  3,  5, 33, 34])"
      ]
     },
     "execution_count": 37,
     "metadata": {},
     "output_type": "execute_result"
    }
   ],
   "source": [
    "np.unique(arr)"
   ]
  },
  {
   "cell_type": "code",
   "execution_count": 43,
   "id": "7d1c8695-e911-4928-a1d2-f56ed17e0daf",
   "metadata": {},
   "outputs": [
    {
     "data": {
      "text/plain": [
       "array([ 3,  8, 10, 44, 47, 50, 53, 86])"
      ]
     },
     "execution_count": 43,
     "metadata": {},
     "output_type": "execute_result"
    }
   ],
   "source": [
    "np.cumsum(arr) # cumulative sum"
   ]
  },
  {
   "cell_type": "code",
   "execution_count": 45,
   "id": "58321a2f-36d3-40be-9630-4f23788b25c7",
   "metadata": {},
   "outputs": [
    {
     "data": {
      "text/plain": [
       "array([1.09861229, 1.60943791, 0.69314718, 3.52636052, 1.09861229,\n",
       "       1.09861229, 1.09861229, 3.49650756])"
      ]
     },
     "execution_count": 45,
     "metadata": {},
     "output_type": "execute_result"
    }
   ],
   "source": [
    "np.log(arr)"
   ]
  },
  {
   "cell_type": "code",
   "execution_count": null,
   "id": "15047fc3-418c-4c36-96d1-a87773197ad0",
   "metadata": {},
   "outputs": [],
   "source": []
  }
 ],
 "metadata": {
  "kernelspec": {
   "display_name": "Python 3 (ipykernel)",
   "language": "python",
   "name": "python3"
  },
  "language_info": {
   "codemirror_mode": {
    "name": "ipython",
    "version": 3
   },
   "file_extension": ".py",
   "mimetype": "text/x-python",
   "name": "python",
   "nbconvert_exporter": "python",
   "pygments_lexer": "ipython3",
   "version": "3.12.4"
  }
 },
 "nbformat": 4,
 "nbformat_minor": 5
}
