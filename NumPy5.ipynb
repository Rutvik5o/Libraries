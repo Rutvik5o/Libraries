{
 "cells": [
  {
   "cell_type": "markdown",
   "id": "9cfa09d3-77b5-4587-8881-7d4132246afa",
   "metadata": {},
   "source": [
    "## DataType in NumPy"
   ]
  },
  {
   "cell_type": "code",
   "execution_count": 2,
   "id": "4c1bd812-f4a6-470f-bddc-36921d8ab48d",
   "metadata": {},
   "outputs": [],
   "source": [
    "import numpy as np"
   ]
  },
  {
   "cell_type": "code",
   "execution_count": 4,
   "id": "951456f9-ed38-4196-9ffa-3749b4d0919f",
   "metadata": {},
   "outputs": [
    {
     "data": {
      "text/plain": [
       "dtype('int32')"
      ]
     },
     "execution_count": 4,
     "metadata": {},
     "output_type": "execute_result"
    }
   ],
   "source": [
    "arr  = np.array([234,5,353,5])\n",
    "arr.dtype # can be differnt on mac & windows"
   ]
  },
  {
   "cell_type": "code",
   "execution_count": 6,
   "id": "601f0b1e-1569-4a5a-9a21-dc246deee0f4",
   "metadata": {},
   "outputs": [
    {
     "data": {
      "text/plain": [
       "array([234,   5, 353,   5])"
      ]
     },
     "execution_count": 6,
     "metadata": {},
     "output_type": "execute_result"
    }
   ],
   "source": [
    "arr"
   ]
  },
  {
   "cell_type": "code",
   "execution_count": 8,
   "id": "598274bd-c4d6-4514-81b1-0fce48012747",
   "metadata": {},
   "outputs": [
    {
     "data": {
      "text/plain": [
       "array([234.,   5., 353.,   5.])"
      ]
     },
     "execution_count": 8,
     "metadata": {},
     "output_type": "execute_result"
    }
   ],
   "source": [
    "arr.astype('float64')"
   ]
  },
  {
   "cell_type": "code",
   "execution_count": 12,
   "id": "306f63a8-da1b-445a-8f60-706208ba0986",
   "metadata": {},
   "outputs": [],
   "source": [
    "arr2  = np.array([234,5,353,5],dtype=\"float64\")"
   ]
  },
  {
   "cell_type": "markdown",
   "id": "b64d4222-a921-4819-b353-902adacf8b2f",
   "metadata": {},
   "source": [
    "## Downcasting to save memory "
   ]
  },
  {
   "cell_type": "code",
   "execution_count": 15,
   "id": "fff6d22b-37d5-45b4-ab61-148a28009f0a",
   "metadata": {},
   "outputs": [
    {
     "data": {
      "text/plain": [
       "16"
      ]
     },
     "execution_count": 15,
     "metadata": {},
     "output_type": "execute_result"
    }
   ],
   "source": [
    "arr.nbytes"
   ]
  },
  {
   "cell_type": "code",
   "execution_count": 17,
   "id": "67c4b5d9-3243-47c3-8289-0bac9dc81c52",
   "metadata": {},
   "outputs": [
    {
     "data": {
      "text/plain": [
       "32"
      ]
     },
     "execution_count": 17,
     "metadata": {},
     "output_type": "execute_result"
    }
   ],
   "source": [
    "arr2.nbytes"
   ]
  },
  {
   "cell_type": "code",
   "execution_count": 19,
   "id": "122ec3ac-99e3-4d26-a58e-28aacfac5192",
   "metadata": {},
   "outputs": [
    {
     "name": "stdout",
     "output_type": "stream",
     "text": [
      "24\n"
     ]
    }
   ],
   "source": [
    "arr_int64 = np.array([1,2,3],dtype=np.int64)\n",
    "arr_int32 = np.array([1,2,3],dtype=np.int32)\n",
    "\n",
    "print(arr_int64.nbytes) #8 bytes * 3 element"
   ]
  },
  {
   "cell_type": "code",
   "execution_count": 23,
   "id": "3db4b63b-2389-4ae5-a938-95bcdf99a5cb",
   "metadata": {},
   "outputs": [
    {
     "name": "stdout",
     "output_type": "stream",
     "text": [
      "12\n"
     ]
    }
   ],
   "source": [
    "print(arr_int32.nbytes) # 4 bytes * 3 element"
   ]
  },
  {
   "cell_type": "markdown",
   "id": "eed3f563-53d3-415d-a3da-c69e9edd9e48",
   "metadata": {},
   "source": [
    "### Mainly NumPy Designed for Numerically operatin, try to avoid to use string datatype"
   ]
  },
  {
   "cell_type": "code",
   "execution_count": 26,
   "id": "2153d3f8-0986-481b-9ee8-a1f8d117502f",
   "metadata": {},
   "outputs": [],
   "source": [
    "arr = np.array(['a','b','c'],dtype='U10')"
   ]
  },
  {
   "cell_type": "markdown",
   "id": "5354bb09-00d0-4242-ae60-578f99376e05",
   "metadata": {},
   "source": [
    " ## Complex Numbers"
   ]
  },
  {
   "cell_type": "code",
   "execution_count": 31,
   "id": "5eb53476-5e98-44f8-8334-51b9788d8d33",
   "metadata": {},
   "outputs": [
    {
     "data": {
      "text/plain": [
       "array([1.+2.j, 3.+4.j, 5.+6.j])"
      ]
     },
     "execution_count": 31,
     "metadata": {},
     "output_type": "execute_result"
    }
   ],
   "source": [
    "arr = np.array([1+2j,3+4j,5+6j],dtype='complex128') #can use 64\n",
    "arr"
   ]
  },
  {
   "cell_type": "markdown",
   "id": "8c5117be-ed7f-4457-b4ce-e3440110e22e",
   "metadata": {},
   "source": [
    "## can be stored dict or object, but not good idea"
   ]
  },
  {
   "cell_type": "code",
   "execution_count": 36,
   "id": "d8340538-f748-4ad7-aed5-453ddf173023",
   "metadata": {},
   "outputs": [
    {
     "data": {
      "text/plain": [
       "array([{'a': 1}, list([1, 2, 3]), 'hello'], dtype=object)"
      ]
     },
     "execution_count": 36,
     "metadata": {},
     "output_type": "execute_result"
    }
   ],
   "source": [
    "arr = np.array([{'a':1},[1,2,3],'hello'],dtype=object)\n",
    "arr"
   ]
  },
  {
   "cell_type": "code",
   "execution_count": null,
   "id": "f84884e0-184e-43c6-b732-30f21a93db9d",
   "metadata": {},
   "outputs": [],
   "source": []
  }
 ],
 "metadata": {
  "kernelspec": {
   "display_name": "Python 3 (ipykernel)",
   "language": "python",
   "name": "python3"
  },
  "language_info": {
   "codemirror_mode": {
    "name": "ipython",
    "version": 3
   },
   "file_extension": ".py",
   "mimetype": "text/x-python",
   "name": "python",
   "nbconvert_exporter": "python",
   "pygments_lexer": "ipython3",
   "version": "3.12.4"
  }
 },
 "nbformat": 4,
 "nbformat_minor": 5
}
