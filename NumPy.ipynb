{
 "cells": [
  {
   "cell_type": "markdown",
   "id": "51e69d40-fcd2-4f09-9200-8dbd7c3996ff",
   "metadata": {},
   "source": [
    "# Performance Measure"
   ]
  },
  {
   "cell_type": "markdown",
   "id": "01271d5b-777b-4a9b-bfaa-9ff8196995c7",
   "metadata": {},
   "source": [
    "## Using Python List"
   ]
  },
  {
   "cell_type": "code",
   "execution_count": 7,
   "id": "e5684781-4a62-432f-aaab-fd578a275576",
   "metadata": {},
   "outputs": [
    {
     "name": "stdout",
     "output_type": "stream",
     "text": [
      "Total time for execution-> 0.8712990283966064\n"
     ]
    }
   ],
   "source": [
    "import time\n",
    "import numpy as np\n",
    "\n",
    "size = 1_000_000_0\n",
    "\n",
    "l1 = list(range(size))\n",
    "l2 = list(range(size))\n",
    "\n",
    "start = time.time()\n",
    "\n",
    "add = [x+y for x,y in zip(l1,l2)]\n",
    "end = time.time()\n",
    "\n",
    "time_taken = end-start\n",
    "\n",
    "print(\"Total time for execution->\",time_taken)"
   ]
  },
  {
   "cell_type": "markdown",
   "id": "e1e4aa23-fc6d-440f-97fc-2196684962fd",
   "metadata": {},
   "source": [
    "## Using NumPy"
   ]
  },
  {
   "cell_type": "code",
   "execution_count": 9,
   "id": "ce78d9a6-cd73-4c95-a717-d0dc51285e32",
   "metadata": {},
   "outputs": [],
   "source": [
    "l1 = np.array(list(range(size)))\n",
    "l2 = np.array(list(range(size)))"
   ]
  },
  {
   "cell_type": "code",
   "execution_count": 10,
   "id": "7cd01e04-36f0-4290-9986-1b89c688dc79",
   "metadata": {},
   "outputs": [
    {
     "name": "stdout",
     "output_type": "stream",
     "text": [
      "Time taken for execution ->  0.124542236328125\n"
     ]
    }
   ],
   "source": [
    "start = time.time()\n",
    "\n",
    "add = l1 + l2\n",
    "\n",
    "end = time.time()\n",
    "\n",
    "time_taken_np = end - start\n",
    "print(\"Time taken for execution -> \" ,time_taken_np)"
   ]
  },
  {
   "cell_type": "code",
   "execution_count": 13,
   "id": "39e4e67b-f090-47d5-a57e-428becdfc747",
   "metadata": {},
   "outputs": [
    {
     "name": "stdout",
     "output_type": "stream",
     "text": [
      "NumPy is faster\n",
      "-0.7467567920684814\n"
     ]
    }
   ],
   "source": [
    "if ( time_taken_np > time_taken):\n",
    "    print(\"Python List is faster\")\n",
    "    print(time_taken -time_taken_np)\n",
    "else:\n",
    "    print(\"NumPy is faster\")\n",
    "    print(time_taken_np - time_taken)"
   ]
  },
  {
   "cell_type": "markdown",
   "id": "049e3db9-fee5-4f0c-9e2c-87e1aec483f4",
   "metadata": {},
   "source": [
    "## Usage of zip"
   ]
  },
  {
   "cell_type": "code",
   "execution_count": 20,
   "id": "ac99b1bc-c61f-4573-8221-d3db4250bc8d",
   "metadata": {},
   "outputs": [
    {
     "data": {
      "text/plain": [
       "[(1, 4), (2, 5), (3, 6)]"
      ]
     },
     "execution_count": 20,
     "metadata": {},
     "output_type": "execute_result"
    }
   ],
   "source": [
    "x1 = [1,2,3]\n",
    "x2 = [4,5,6]\n",
    "\n",
    "list(zip(x1,x2))"
   ]
  },
  {
   "cell_type": "markdown",
   "id": "aae4df4c-8415-4fdf-8b15-74d56ba4ce15",
   "metadata": {},
   "source": [
    "## 2D Array"
   ]
  },
  {
   "cell_type": "code",
   "execution_count": 33,
   "id": "244d4954-4211-4647-915a-4dc974eabe9f",
   "metadata": {},
   "outputs": [
    {
     "data": {
      "text/plain": [
       "(2, 3)"
      ]
     },
     "execution_count": 33,
     "metadata": {},
     "output_type": "execute_result"
    }
   ],
   "source": [
    "arr=np.array([[1,2,3],[4,5,6]]) #if first row in 3 element so its compulsary to second column must be three\n",
    "type(arr)\n",
    "arr.shape # 2 column three rows "
   ]
  },
  {
   "cell_type": "markdown",
   "id": "455ade9d-491b-4ac5-ba6c-412fd8af9e24",
   "metadata": {},
   "source": [
    "## Memeory Efficiently"
   ]
  },
  {
   "cell_type": "code",
   "execution_count": 40,
   "id": "97364da3-cc51-4448-802c-88819fe04d5a",
   "metadata": {},
   "outputs": [
    {
     "name": "stdout",
     "output_type": "stream",
     "text": [
      "Python list size: 8056000 bytes\n",
      "NumPy array size: 4000 bytes\n"
     ]
    }
   ],
   "source": [
    "import sys\n",
    "\n",
    "list_data = list(range(1000))\n",
    "numpy_data = np.array(list_data)\n",
    "\n",
    "print(\"Python list size:\", sys.getsizeof(list_data) * len(list_data), \"bytes\")\n",
    "print(\"NumPy array size:\", numpy_data.nbytes, \"bytes\")"
   ]
  },
  {
   "cell_type": "code",
   "execution_count": 67,
   "id": "88a9b789-4348-47e4-ba12-3cf571c5a30c",
   "metadata": {},
   "outputs": [
    {
     "name": "stdout",
     "output_type": "stream",
     "text": [
      "List-> [25, 9, 36, 36, 9, 4, 9, 16, 25]\n",
      "Numpy-> [       25         9      2704        36 603291844        36         9\n",
      "         4    391876         9      1764       529        16      1024\n",
      "        25]\n"
     ]
    }
   ],
   "source": [
    "## List Comprehension\n",
    "list1 = [5,3,52,6,2462,6,3,2,626,3,42,23,4,32,5]\n",
    "\n",
    "list_square = [ x ** 2 for x in list1 if x < 10 ]\n",
    "\n",
    "print(\"List->\",list_square)\n",
    "\n",
    "\n",
    "arr1 = np.array(list(list1))\n",
    "\n",
    "res = arr1 ** 2 #vectorized\n",
    "\n",
    "print(\"Numpy->\",res)"
   ]
  },
  {
   "cell_type": "markdown",
   "id": "14919dfd-15d6-4d6d-b9d5-5cd339d90186",
   "metadata": {},
   "source": [
    "## Task 1"
   ]
  },
  {
   "cell_type": "code",
   "execution_count": 83,
   "id": "829e8603-3cbe-4122-9929-83c31c510e3a",
   "metadata": {},
   "outputs": [
    {
     "name": "stdout",
     "output_type": "stream",
     "text": [
      "Total Time for list-> 0.0019991397857666016\n",
      "Total Time for NumPy 0.0\n"
     ]
    }
   ],
   "source": [
    "t1 = time.time()\n",
    "\n",
    "list1 = range(500)\n",
    "\n",
    "t1 = time.time()\n",
    "\n",
    "r1 = [ x ** 512\n",
    "      for x in list1 ]\n",
    "\n",
    "t2 = time.time()\n",
    "\n",
    "\n",
    "\n",
    "print(\"Total Time for list->\",t2-t1)\n",
    "\n",
    "b1 = np.array(list1)\n",
    "\n",
    "m1 = time.time()\n",
    "\n",
    "b2 = b1 ** 512\n",
    "\n",
    "m2 = time.time()\n",
    "\n",
    "print(\"Total Time for NumPy\",m2-m1)\n"
   ]
  },
  {
   "cell_type": "code",
   "execution_count": 89,
   "id": "dc1b80ef-4c7a-4736-82d5-a96e7b81c76f",
   "metadata": {},
   "outputs": [
    {
     "name": "stdout",
     "output_type": "stream",
     "text": [
      "Python list size ->  48000000  bytes\n",
      "Numpy array size ->  4000000  bytes\n"
     ]
    }
   ],
   "source": [
    "#memoery Efficieny\n",
    "\n",
    "list1=range(1000000)\n",
    "\n",
    "numpy1 = np.array(list1)\n",
    "\n",
    "print(\"Python list size -> \", sys.getsizeof(list1) * len(list1),\" bytes\")\n",
    "print(\"Numpy array size -> \" , numpy1.nbytes,\" bytes\")\n"
   ]
  },
  {
   "cell_type": "code",
   "execution_count": 91,
   "id": "ec635aeb-bd3c-4584-b3cf-ead6254ad65c",
   "metadata": {},
   "outputs": [],
   "source": [
    "#Create a NumPy array with values from 10 to 100 and print its shape."
   ]
  },
  {
   "cell_type": "code",
   "execution_count": 93,
   "id": "7c665079-dc1d-4098-908d-46955b1f449c",
   "metadata": {},
   "outputs": [
    {
     "data": {
      "text/plain": [
       "(90,)"
      ]
     },
     "execution_count": 93,
     "metadata": {},
     "output_type": "execute_result"
    }
   ],
   "source": [
    "n1 = np.array(list(range(10,100)))\n",
    "\n",
    "n1.shape"
   ]
  },
  {
   "cell_type": "code",
   "execution_count": null,
   "id": "86aeae7e-5132-45c2-820c-7ad1fb8aadca",
   "metadata": {},
   "outputs": [],
   "source": []
  }
 ],
 "metadata": {
  "kernelspec": {
   "display_name": "Python 3 (ipykernel)",
   "language": "python",
   "name": "python3"
  },
  "language_info": {
   "codemirror_mode": {
    "name": "ipython",
    "version": 3
   },
   "file_extension": ".py",
   "mimetype": "text/x-python",
   "name": "python",
   "nbconvert_exporter": "python",
   "pygments_lexer": "ipython3",
   "version": "3.12.4"
  }
 },
 "nbformat": 4,
 "nbformat_minor": 5
}
