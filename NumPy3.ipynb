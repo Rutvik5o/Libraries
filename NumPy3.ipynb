{
 "cells": [
  {
   "cell_type": "code",
   "execution_count": 7,
   "id": "d058bc9f-dcdc-49a0-b390-f686ebbb60ec",
   "metadata": {},
   "outputs": [],
   "source": [
    "import numpy as np\n"
   ]
  },
  {
   "cell_type": "markdown",
   "id": "08d0344c-3dbe-47f4-a492-eaf0a74b4482",
   "metadata": {},
   "source": [
    " ## Slicing"
   ]
  },
  {
   "cell_type": "code",
   "execution_count": 4,
   "id": "8f8fa27d-d1bd-46dd-b5f7-ace189e4644b",
   "metadata": {},
   "outputs": [],
   "source": [
    "arr = np.array([10,203,4943,3])"
   ]
  },
  {
   "cell_type": "code",
   "execution_count": 6,
   "id": "ecc50800-a7ca-4191-948e-28f5bbdc695a",
   "metadata": {},
   "outputs": [
    {
     "name": "stdout",
     "output_type": "stream",
     "text": [
      "[ 203 4943    3]\n"
     ]
    }
   ],
   "source": [
    "print(arr[1:4]) #slice from index 1 to 3"
   ]
  },
  {
   "cell_type": "code",
   "execution_count": 8,
   "id": "397e13b2-fe5b-420b-9b93-ea7c7102eed5",
   "metadata": {},
   "outputs": [
    {
     "name": "stdout",
     "output_type": "stream",
     "text": [
      "[  10  203 4943]\n"
     ]
    }
   ],
   "source": [
    "print(arr[:3]) #first three element"
   ]
  },
  {
   "cell_type": "code",
   "execution_count": 10,
   "id": "0d6d25ce-4107-47da-af95-954ac5b7e661",
   "metadata": {},
   "outputs": [
    {
     "name": "stdout",
     "output_type": "stream",
     "text": [
      "[  10 4943]\n"
     ]
    }
   ],
   "source": [
    "print(arr[::2]) #print every second element"
   ]
  },
  {
   "cell_type": "markdown",
   "id": "2833632d-7f5b-464f-aa15-afdbbf1a742f",
   "metadata": {},
   "source": [
    "## Slicing returns a view, not copy! changes affect the original array"
   ]
  },
  {
   "cell_type": "code",
   "execution_count": 41,
   "id": "6787c392-4105-4ffc-b699-a9cd5ca81c82",
   "metadata": {},
   "outputs": [
    {
     "data": {
      "text/plain": [
       "array([   10, 55500])"
      ]
     },
     "execution_count": 41,
     "metadata": {},
     "output_type": "execute_result"
    }
   ],
   "source": [
    "a2 = arr[:2]\n",
    "#to overcome this issue use arr[:2].copy\n",
    "a2"
   ]
  },
  {
   "cell_type": "code",
   "execution_count": 37,
   "id": "16dbdd3e-6d3c-4dc5-9edb-aa19efe2503c",
   "metadata": {},
   "outputs": [
    {
     "data": {
      "text/plain": [
       "array([   10, 54500])"
      ]
     },
     "execution_count": 37,
     "metadata": {},
     "output_type": "execute_result"
    }
   ],
   "source": [
    "a2[1] =54500\n",
    "a2"
   ]
  },
  {
   "cell_type": "code",
   "execution_count": 39,
   "id": "f4d80eec-bafa-4511-9ca0-1887b45cbda9",
   "metadata": {},
   "outputs": [
    {
     "data": {
      "text/plain": [
       "array([   10, 55500,  4943,     3])"
      ]
     },
     "execution_count": 39,
     "metadata": {},
     "output_type": "execute_result"
    }
   ],
   "source": [
    "arr"
   ]
  },
  {
   "cell_type": "markdown",
   "id": "7e4bf2ec-da18-40a8-a698-24591936bf6e",
   "metadata": {},
   "source": [
    "## Fancy Indexing"
   ]
  },
  {
   "cell_type": "code",
   "execution_count": 48,
   "id": "6e0d203d-abd8-46e1-9187-42811b50c42f",
   "metadata": {},
   "outputs": [
    {
     "name": "stdout",
     "output_type": "stream",
     "text": [
      "[10 30 50]\n"
     ]
    }
   ],
   "source": [
    "arr = np.array([10,20,30,40,50])\n",
    "idx = [0,2,4]\n",
    "print(arr[idx])"
   ]
  },
  {
   "cell_type": "markdown",
   "id": "06c5c16a-bd7c-4b2b-8d16-8b8333c7fdb9",
   "metadata": {},
   "source": [
    "## Boolaen Masking(Filter Data)"
   ]
  },
  {
   "cell_type": "code",
   "execution_count": 53,
   "id": "888b4a8f-55f2-451c-94f5-e867d794a94e",
   "metadata": {},
   "outputs": [
    {
     "data": {
      "text/plain": [
       "array([40, 50])"
      ]
     },
     "execution_count": 53,
     "metadata": {},
     "output_type": "execute_result"
    }
   ],
   "source": [
    "mask = arr > 30\n",
    "arr[mask]"
   ]
  },
  {
   "cell_type": "markdown",
   "id": "ce38179a-185a-453a-9bcd-5504f498b9fb",
   "metadata": {},
   "source": [
    "# Task"
   ]
  },
  {
   "cell_type": "markdown",
   "id": "b1c2735c-a9f9-4467-bec9-944e8929e6bd",
   "metadata": {},
   "source": [
    "'''\n",
    "Create a 3×3 array filled with random numbers and print its shape.\n",
    "Convert an array of floats [1.1, 2.2, 3.3] into integers.\n",
    "Use fancy indexing to extract even numbers from [1, 2, 3, 4, 5, 6].\n",
    "Reshape a 1D array of size 9 into a 3×3 matrix.\n",
    "Use boolean masking to filter numbers greater than 50 in an array.\n",
    "'''"
   ]
  },
  {
   "cell_type": "code",
   "execution_count": 38,
   "id": "7648258d-bc4c-4bd8-9f8a-a447193eac7f",
   "metadata": {},
   "outputs": [],
   "source": [
    "arr = np.eye(3)"
   ]
  },
  {
   "cell_type": "code",
   "execution_count": 40,
   "id": "58651631-ab55-4060-a3b0-bacb94f149d7",
   "metadata": {},
   "outputs": [
    {
     "data": {
      "text/plain": [
       "array([[1., 0., 0.],\n",
       "       [0., 1., 0.],\n",
       "       [0., 0., 1.]])"
      ]
     },
     "execution_count": 40,
     "metadata": {},
     "output_type": "execute_result"
    }
   ],
   "source": [
    "arr\n"
   ]
  },
  {
   "cell_type": "code",
   "execution_count": 42,
   "id": "9eb69006-49ac-47fc-8ae8-0c6649f83460",
   "metadata": {},
   "outputs": [
    {
     "data": {
      "text/plain": [
       "(3, 3)"
      ]
     },
     "execution_count": 42,
     "metadata": {},
     "output_type": "execute_result"
    }
   ],
   "source": [
    "arr.shape"
   ]
  },
  {
   "cell_type": "code",
   "execution_count": 44,
   "id": "f5fb44f7-37da-4736-b2e2-3a93e810c3be",
   "metadata": {},
   "outputs": [
    {
     "data": {
      "text/plain": [
       "array([[1., 0., 0.],\n",
       "       [0., 1., 0.],\n",
       "       [0., 0., 1.]])"
      ]
     },
     "execution_count": 44,
     "metadata": {},
     "output_type": "execute_result"
    }
   ],
   "source": [
    "na = arr.astype('float64')\n",
    "na"
   ]
  },
  {
   "cell_type": "code",
   "execution_count": 52,
   "id": "ddcfec76-a5b3-4c97-b1ef-e45844b09ab7",
   "metadata": {},
   "outputs": [
    {
     "name": "stdout",
     "output_type": "stream",
     "text": [
      "1.0\n"
     ]
    }
   ],
   "source": [
    "index = [2]\n",
    "print(na[index][0][2])"
   ]
  },
  {
   "cell_type": "code",
   "execution_count": 54,
   "id": "ac06a790-121b-4f62-82c2-ac5100b8592d",
   "metadata": {},
   "outputs": [],
   "source": [
    "newarr = np.array([1,2,3,4,5,6,7,8,9])"
   ]
  },
  {
   "cell_type": "code",
   "execution_count": 56,
   "id": "97d3e81b-b6b8-4202-8f92-1b68465a7d35",
   "metadata": {},
   "outputs": [
    {
     "data": {
      "text/plain": [
       "array([[1, 2, 3],\n",
       "       [4, 5, 6],\n",
       "       [7, 8, 9]])"
      ]
     },
     "execution_count": 56,
     "metadata": {},
     "output_type": "execute_result"
    }
   ],
   "source": [
    "newarr.reshape((3,3))"
   ]
  },
  {
   "cell_type": "code",
   "execution_count": 65,
   "id": "8cc00945-92d0-470e-993d-2dc0652ad2ec",
   "metadata": {},
   "outputs": [
    {
     "data": {
      "text/plain": [
       "array([6, 7, 8, 9])"
      ]
     },
     "execution_count": 65,
     "metadata": {},
     "output_type": "execute_result"
    }
   ],
   "source": [
    "n2 = newarr > 5\n",
    "newarr[n2]"
   ]
  },
  {
   "cell_type": "code",
   "execution_count": null,
   "id": "1186c8fa-a4cc-4b18-8612-beeaba2bdf9d",
   "metadata": {},
   "outputs": [],
   "source": []
  }
 ],
 "metadata": {
  "kernelspec": {
   "display_name": "Python 3 (ipykernel)",
   "language": "python",
   "name": "python3"
  },
  "language_info": {
   "codemirror_mode": {
    "name": "ipython",
    "version": 3
   },
   "file_extension": ".py",
   "mimetype": "text/x-python",
   "name": "python",
   "nbconvert_exporter": "python",
   "pygments_lexer": "ipython3",
   "version": "3.12.4"
  }
 },
 "nbformat": 4,
 "nbformat_minor": 5
}
