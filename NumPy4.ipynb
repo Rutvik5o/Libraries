{
 "cells": [
  {
   "cell_type": "code",
   "execution_count": 1,
   "id": "9978d70a-855c-493f-99a7-81667702a0ca",
   "metadata": {},
   "outputs": [],
   "source": [
    "import numpy as np\n",
    "\n",
    "arr = np.array([[1,2,3],[4,5,6],[7,8,9]])"
   ]
  },
  {
   "cell_type": "code",
   "execution_count": 3,
   "id": "0a30e11f-3c0c-4bed-8dbe-394fbb0ec3d3",
   "metadata": {},
   "outputs": [
    {
     "data": {
      "text/plain": [
       "array([[1, 2, 3],\n",
       "       [4, 5, 6],\n",
       "       [7, 8, 9]])"
      ]
     },
     "execution_count": 3,
     "metadata": {},
     "output_type": "execute_result"
    }
   ],
   "source": [
    "arr"
   ]
  },
  {
   "cell_type": "code",
   "execution_count": 5,
   "id": "e8c160b6-8193-4f48-831d-a32d0e534bed",
   "metadata": {},
   "outputs": [
    {
     "data": {
      "text/plain": [
       "array([1, 2, 3])"
      ]
     },
     "execution_count": 5,
     "metadata": {},
     "output_type": "execute_result"
    }
   ],
   "source": [
    "arr[0] #-> first row"
   ]
  },
  {
   "cell_type": "markdown",
   "id": "68691e1e-dfec-422a-ac39-c9c56fb44667",
   "metadata": {},
   "source": [
    "## Indexing"
   ]
  },
  {
   "cell_type": "code",
   "execution_count": 7,
   "id": "9192191d-f111-4f7d-90d4-418cace59018",
   "metadata": {},
   "outputs": [
    {
     "data": {
      "text/plain": [
       "array([4, 5, 6])"
      ]
     },
     "execution_count": 7,
     "metadata": {},
     "output_type": "execute_result"
    }
   ],
   "source": [
    "arr[1]"
   ]
  },
  {
   "cell_type": "code",
   "execution_count": 9,
   "id": "d5d5ca8d-ac21-4d44-9b7f-5158bee42747",
   "metadata": {},
   "outputs": [
    {
     "data": {
      "text/plain": [
       "array([7, 8, 9])"
      ]
     },
     "execution_count": 9,
     "metadata": {},
     "output_type": "execute_result"
    }
   ],
   "source": [
    "arr[2]"
   ]
  },
  {
   "cell_type": "code",
   "execution_count": 11,
   "id": "2b241c23-df6a-4ef8-ba06-eb8d20632dd9",
   "metadata": {},
   "outputs": [],
   "source": [
    "#arr[row][column]"
   ]
  },
  {
   "cell_type": "code",
   "execution_count": 13,
   "id": "786cb3ab-275a-4037-a517-6c89af51d27a",
   "metadata": {},
   "outputs": [
    {
     "data": {
      "text/plain": [
       "9"
      ]
     },
     "execution_count": 13,
     "metadata": {},
     "output_type": "execute_result"
    }
   ],
   "source": [
    "arr[2][2]"
   ]
  },
  {
   "cell_type": "markdown",
   "id": "0d383e4b-212f-4099-8aff-c1013f143129",
   "metadata": {},
   "source": [
    "## Sum of 2D"
   ]
  },
  {
   "cell_type": "code",
   "execution_count": 17,
   "id": "01f563e3-19a6-4d50-8d84-ae3eecb01d4d",
   "metadata": {},
   "outputs": [
    {
     "data": {
      "text/plain": [
       "array([12, 15, 18])"
      ]
     },
     "execution_count": 17,
     "metadata": {},
     "output_type": "execute_result"
    }
   ],
   "source": [
    "np.sum(arr,axis=0) #axis 0 -> row"
   ]
  },
  {
   "cell_type": "code",
   "execution_count": 21,
   "id": "401763df-5e2a-4cef-a709-5b940f459080",
   "metadata": {},
   "outputs": [
    {
     "data": {
      "text/plain": [
       "array([ 6, 15, 24])"
      ]
     },
     "execution_count": 21,
     "metadata": {},
     "output_type": "execute_result"
    }
   ],
   "source": [
    "np.sum(arr,axis =1 )#axis 1-> column"
   ]
  },
  {
   "cell_type": "markdown",
   "id": "206ca54d-6396-402e-94d2-279bb3dbc97b",
   "metadata": {},
   "source": [
    "## New Indexing on 2D"
   ]
  },
  {
   "cell_type": "code",
   "execution_count": 26,
   "id": "9ef3bad8-d9c2-4c0a-8818-37c7b08d86fb",
   "metadata": {},
   "outputs": [
    {
     "data": {
      "text/plain": [
       "2"
      ]
     },
     "execution_count": 26,
     "metadata": {},
     "output_type": "execute_result"
    }
   ],
   "source": [
    "arr[0,1] # 0-> row, 1> column"
   ]
  },
  {
   "cell_type": "code",
   "execution_count": 30,
   "id": "6f9f8a13-bba1-4bbe-8def-9c58ec076e92",
   "metadata": {},
   "outputs": [
    {
     "data": {
      "text/plain": [
       "array([[2, 3],\n",
       "       [5, 6]])"
      ]
     },
     "execution_count": 30,
     "metadata": {},
     "output_type": "execute_result"
    }
   ],
   "source": [
    "arr[0:2,1:] #0:2 -> 0 & 1 index vali row on that\n",
    "# and column in 1 & 2 column  "
   ]
  },
  {
   "cell_type": "markdown",
   "id": "74d6adab-4c6e-414a-a6ab-50dfe7d953b5",
   "metadata": {},
   "source": [
    "## Indexing in 3D Arrays"
   ]
  },
  {
   "cell_type": "code",
   "execution_count": 152,
   "id": "e3671d65-1814-4ba4-90b3-6acfb713b74d",
   "metadata": {},
   "outputs": [
    {
     "name": "stdout",
     "output_type": "stream",
     "text": [
      "(2, 2, 3)\n"
     ]
    }
   ],
   "source": [
    "arr3D = np.array([\n",
    "    [[1, 2, 3], [4, 5, 6]],\n",
    "    \n",
    "    [[7, 8, 9], [10, 11, 12]]\n",
    "])\n",
    "\n",
    "# Output of arr3D.shape is → (depth, rows, columns)\n",
    "print(arr3D.shape)  # Output: (2, 2, 3) "
   ]
  },
  {
   "cell_type": "code",
   "execution_count": 84,
   "id": "44d5ef0b-832d-4f04-958b-9b8c40b1493f",
   "metadata": {},
   "outputs": [
    {
     "data": {
      "text/plain": [
       "array([[[ 1,  2,  3],\n",
       "        [ 4,  5,  6]],\n",
       "\n",
       "       [[ 7,  8,  9],\n",
       "        [10, 11, 12]]])"
      ]
     },
     "execution_count": 84,
     "metadata": {},
     "output_type": "execute_result"
    }
   ],
   "source": [
    "arr3D\n"
   ]
  },
  {
   "cell_type": "code",
   "execution_count": 78,
   "id": "358d57ec-340e-47b8-be86-ab3d076e431e",
   "metadata": {},
   "outputs": [
    {
     "data": {
      "text/plain": [
       "(3, 3)"
      ]
     },
     "execution_count": 78,
     "metadata": {},
     "output_type": "execute_result"
    }
   ],
   "source": [
    "arr3D.shape #(depth,rows, column)"
   ]
  },
  {
   "cell_type": "markdown",
   "id": "be62d890-2da6-4488-aaff-05da4e7b0f36",
   "metadata": {},
   "source": [
    "## Accessing Element in 3D"
   ]
  },
  {
   "cell_type": "code",
   "execution_count": 86,
   "id": "da99db94-c901-4787-be5d-2fcbd4a9d5cb",
   "metadata": {},
   "outputs": [
    {
     "name": "stdout",
     "output_type": "stream",
     "text": [
      "6\n"
     ]
    }
   ],
   "source": [
    "#(first sheet,second row,third column)\n",
    "print(arr3D[0,1,2])"
   ]
  },
  {
   "cell_type": "code",
   "execution_count": 98,
   "id": "ab29efff-d3d3-479a-9209-032afdd658c5",
   "metadata": {},
   "outputs": [
    {
     "name": "stdout",
     "output_type": "stream",
     "text": [
      "6\n"
     ]
    }
   ],
   "source": [
    "print(arr3D[0,1,2])"
   ]
  },
  {
   "cell_type": "code",
   "execution_count": 118,
   "id": "4197a9e2-6f93-423d-998d-e52b486fa242",
   "metadata": {},
   "outputs": [
    {
     "name": "stdout",
     "output_type": "stream",
     "text": [
      "[[1 2 3]\n",
      " [7 8 9]]\n"
     ]
    }
   ],
   "source": [
    "print(arr3D[:,0,:]) #:->> consider all 2D array, 0-> un 2D array ki first row, :-> unke sare column"
   ]
  },
  {
   "cell_type": "markdown",
   "id": "a1e945ef-a0f4-44e3-b951-ad833fae6b8d",
   "metadata": {},
   "source": [
    "## Practice Example: Selectin Data along axes"
   ]
  },
  {
   "cell_type": "code",
   "execution_count": 131,
   "id": "810a9aa3-0aa2-46e3-8bb1-4132c4a7eeac",
   "metadata": {},
   "outputs": [
    {
     "data": {
      "text/plain": [
       "array([1, 4, 7])"
      ]
     },
     "execution_count": 131,
     "metadata": {},
     "output_type": "execute_result"
    }
   ],
   "source": [
    "#get all rows of the first column\n",
    "\n",
    "first_col = arr[:,0] #sari rows of first cloumn\n",
    "first_col"
   ]
  },
  {
   "cell_type": "code",
   "execution_count": 135,
   "id": "d94f8268-11a0-4c10-ad47-60804f9f5643",
   "metadata": {},
   "outputs": [],
   "source": [
    "#Get the first row from each \"Sheet\" in a 3D array"
   ]
  },
  {
   "cell_type": "code",
   "execution_count": 137,
   "id": "83428d16-73d6-4e1a-b364-0d700330b37b",
   "metadata": {},
   "outputs": [],
   "source": [
    "first_rows = arr3D[:,0,:]"
   ]
  },
  {
   "cell_type": "code",
   "execution_count": 139,
   "id": "57f1bd43-fd79-4a10-bd6c-00e75f42217a",
   "metadata": {},
   "outputs": [
    {
     "data": {
      "text/plain": [
       "array([[1, 2, 3],\n",
       "       [7, 8, 9]])"
      ]
     },
     "execution_count": 139,
     "metadata": {},
     "output_type": "execute_result"
    }
   ],
   "source": [
    "first_rows"
   ]
  },
  {
   "cell_type": "markdown",
   "id": "8a3cb52d-b3ce-4b50-8c81-75f82f5d23c9",
   "metadata": {},
   "source": [
    "## Changing Data Along an Axis"
   ]
  },
  {
   "cell_type": "code",
   "execution_count": 142,
   "id": "85625a73-7e56-4a09-9e12-405fabac1685",
   "metadata": {},
   "outputs": [
    {
     "data": {
      "text/plain": [
       "array([[1, 0, 3],\n",
       "       [4, 0, 6],\n",
       "       [7, 0, 9]])"
      ]
     },
     "execution_count": 142,
     "metadata": {},
     "output_type": "execute_result"
    }
   ],
   "source": [
    "#Replace all elements in column 1 with 0\n",
    "arr[:,1] = 0\n",
    "arr"
   ]
  },
  {
   "cell_type": "code",
   "execution_count": 154,
   "id": "b5799bd9-26fe-48a1-b366-8e8693e49d07",
   "metadata": {},
   "outputs": [
    {
     "data": {
      "text/plain": [
       "array([[[1, 2, 3],\n",
       "        [0, 0, 0]],\n",
       "\n",
       "       [[7, 8, 9],\n",
       "        [0, 0, 0]]])"
      ]
     },
     "execution_count": 154,
     "metadata": {},
     "output_type": "execute_result"
    }
   ],
   "source": [
    "arr3D[:,1,:] = 0\n",
    "arr3D"
   ]
  },
  {
   "cell_type": "code",
   "execution_count": null,
   "id": "1ccda2a6-82d5-4051-b573-fc827c2c5ea4",
   "metadata": {},
   "outputs": [],
   "source": []
  },
  {
   "cell_type": "code",
   "execution_count": null,
   "id": "6ce150ab-5a69-4665-8a31-3ae7f15afd8b",
   "metadata": {},
   "outputs": [],
   "source": []
  },
  {
   "cell_type": "code",
   "execution_count": null,
   "id": "4a917f35-0e46-414d-bd21-68df17e96e57",
   "metadata": {},
   "outputs": [],
   "source": []
  }
 ],
 "metadata": {
  "kernelspec": {
   "display_name": "Python 3 (ipykernel)",
   "language": "python",
   "name": "python3"
  },
  "language_info": {
   "codemirror_mode": {
    "name": "ipython",
    "version": 3
   },
   "file_extension": ".py",
   "mimetype": "text/x-python",
   "name": "python",
   "nbconvert_exporter": "python",
   "pygments_lexer": "ipython3",
   "version": "3.12.4"
  }
 },
 "nbformat": 4,
 "nbformat_minor": 5
}
