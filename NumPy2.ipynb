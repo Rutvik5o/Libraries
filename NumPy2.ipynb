{
 "cells": [
  {
   "cell_type": "code",
   "execution_count": 1,
   "id": "d35a3d56-a436-418b-840f-db93923cef04",
   "metadata": {},
   "outputs": [],
   "source": [
    "import numpy as np\n"
   ]
  },
  {
   "cell_type": "code",
   "execution_count": null,
   "id": "94132cec-b615-42a4-b32b-a9e8fe43887d",
   "metadata": {},
   "outputs": [],
   "source": [
    "arr1 = np.array([[1,2,3],[4,1,8]])"
   ]
  },
  {
   "cell_type": "code",
   "execution_count": 7,
   "id": "55a35cbd-5eaa-4e55-8f3b-4b4798519254",
   "metadata": {},
   "outputs": [
    {
     "data": {
      "text/plain": [
       "array([[1, 2, 3],\n",
       "       [4, 5, 6]])"
      ]
     },
     "execution_count": 7,
     "metadata": {},
     "output_type": "execute_result"
    }
   ],
   "source": [
    "arr1"
   ]
  },
  {
   "cell_type": "code",
   "execution_count": 15,
   "id": "a3dbddf3-1165-4315-8afb-c6b4113ae1b1",
   "metadata": {},
   "outputs": [
    {
     "data": {
      "text/plain": [
       "array([[0., 0., 0., 0.],\n",
       "       [0., 0., 0., 0.],\n",
       "       [0., 0., 0., 0.]])"
      ]
     },
     "execution_count": 15,
     "metadata": {},
     "output_type": "execute_result"
    }
   ],
   "source": [
    "np.zeros((3,4)) #4 column 3 row"
   ]
  },
  {
   "cell_type": "code",
   "execution_count": 17,
   "id": "8adea435-ff16-4f8b-84e4-c53a28a4f644",
   "metadata": {},
   "outputs": [],
   "source": [
    "#Creating arrays from scrath"
   ]
  },
  {
   "cell_type": "code",
   "execution_count": 25,
   "id": "35d90e74-704b-4c46-841d-d941b55bd445",
   "metadata": {},
   "outputs": [
    {
     "data": {
      "text/plain": [
       "array([[1., 1., 1., 1.],\n",
       "       [1., 1., 1., 1.]])"
      ]
     },
     "execution_count": 25,
     "metadata": {},
     "output_type": "execute_result"
    }
   ],
   "source": [
    "np.ones((2,4)) #2x4 arrays of ones\n"
   ]
  },
  {
   "cell_type": "code",
   "execution_count": 27,
   "id": "4d954712-293e-4db7-89ed-824298b04384",
   "metadata": {},
   "outputs": [
    {
     "data": {
      "text/plain": [
       "array([[7, 7],\n",
       "       [7, 7],\n",
       "       [7, 7],\n",
       "       [7, 7]])"
      ]
     },
     "execution_count": 27,
     "metadata": {},
     "output_type": "execute_result"
    }
   ],
   "source": [
    "np.full((4,2),7) # 2x2 array filled with 7"
   ]
  },
  {
   "cell_type": "code",
   "execution_count": 31,
   "id": "bbbd43d0-acc1-4735-bf67-2af83b518625",
   "metadata": {},
   "outputs": [
    {
     "data": {
      "text/plain": [
       "array([[1., 0., 0., 0., 0.],\n",
       "       [0., 1., 0., 0., 0.],\n",
       "       [0., 0., 1., 0., 0.],\n",
       "       [0., 0., 0., 1., 0.],\n",
       "       [0., 0., 0., 0., 1.]])"
      ]
     },
     "execution_count": 31,
     "metadata": {},
     "output_type": "execute_result"
    }
   ],
   "source": [
    "np.eye(5) #identty matrix"
   ]
  },
  {
   "cell_type": "code",
   "execution_count": 39,
   "id": "03352788-d4b1-4b91-956f-e0919803d15d",
   "metadata": {},
   "outputs": [
    {
     "data": {
      "text/plain": [
       "array([ 1, 10, 19, 28, 37, 46, 55, 64, 73, 82, 91])"
      ]
     },
     "execution_count": 39,
     "metadata": {},
     "output_type": "execute_result"
    }
   ],
   "source": [
    "np.arange(1,100,9) # 1 to 100 there 2 skip\n",
    "#100: explicit\n",
    "#1 , 1+9 = 10, 10+9=19,...,91"
   ]
  },
  {
   "cell_type": "code",
   "execution_count": 47,
   "id": "d1ba0a8a-ac62-4f45-ba2d-fca740d3edc6",
   "metadata": {},
   "outputs": [
    {
     "data": {
      "text/plain": [
       "array([0. , 0.2, 0.4, 0.6, 0.8, 1. ])"
      ]
     },
     "execution_count": 47,
     "metadata": {},
     "output_type": "execute_result"
    }
   ],
   "source": [
    "np.linspace(0,1,6) #print 0 to 1 b/w 6 equaly space,entry"
   ]
  },
  {
   "cell_type": "code",
   "execution_count": 49,
   "id": "156cd344-cae3-4f39-aa05-1b8fbcab3456",
   "metadata": {},
   "outputs": [],
   "source": [
    "myarr = np.array([[1,2,3],[4,5,6],[43,52,5],[245,3,2]])"
   ]
  },
  {
   "cell_type": "code",
   "execution_count": 51,
   "id": "d8c323c6-96c0-4e2d-9cda-c5d46dce7552",
   "metadata": {},
   "outputs": [
    {
     "data": {
      "text/plain": [
       "array([[  1,   2,   3],\n",
       "       [  4,   5,   6],\n",
       "       [ 43,  52,   5],\n",
       "       [245,   3,   2]])"
      ]
     },
     "execution_count": 51,
     "metadata": {},
     "output_type": "execute_result"
    }
   ],
   "source": [
    "myarr\n"
   ]
  },
  {
   "cell_type": "code",
   "execution_count": 53,
   "id": "ce5e0c1a-918e-457e-b18b-4743af518bb7",
   "metadata": {},
   "outputs": [
    {
     "data": {
      "text/plain": [
       "(4, 3)"
      ]
     },
     "execution_count": 53,
     "metadata": {},
     "output_type": "execute_result"
    }
   ],
   "source": [
    "myarr.shape\n"
   ]
  },
  {
   "cell_type": "code",
   "execution_count": 55,
   "id": "41ebffc7-4978-4cf9-97ce-9216d94bcd62",
   "metadata": {},
   "outputs": [
    {
     "data": {
      "text/plain": [
       "12"
      ]
     },
     "execution_count": 55,
     "metadata": {},
     "output_type": "execute_result"
    }
   ],
   "source": [
    "myarr.size"
   ]
  },
  {
   "cell_type": "code",
   "execution_count": 57,
   "id": "60b1c76e-3d30-4fb1-825e-181fe25e419a",
   "metadata": {},
   "outputs": [
    {
     "data": {
      "text/plain": [
       "2"
      ]
     },
     "execution_count": 57,
     "metadata": {},
     "output_type": "execute_result"
    }
   ],
   "source": [
    "myarr.ndim"
   ]
  },
  {
   "cell_type": "code",
   "execution_count": 59,
   "id": "20b7161f-d31e-4ed5-910d-16b4352ed88d",
   "metadata": {},
   "outputs": [
    {
     "data": {
      "text/plain": [
       "dtype('int32')"
      ]
     },
     "execution_count": 59,
     "metadata": {},
     "output_type": "execute_result"
    }
   ],
   "source": [
    "myarr.dtype"
   ]
  },
  {
   "cell_type": "markdown",
   "id": "1061acb2-07b4-4df8-b6d5-a3bd2025e357",
   "metadata": {},
   "source": [
    "## Changing data type"
   ]
  },
  {
   "cell_type": "code",
   "execution_count": 62,
   "id": "61a34b68-8b80-44b7-8f8f-6a6082bcb454",
   "metadata": {},
   "outputs": [],
   "source": [
    "#numpy in not allow one element int and another is float\n",
    "# must all equal"
   ]
  },
  {
   "cell_type": "code",
   "execution_count": 66,
   "id": "ec612968-891f-4c00-ba85-8b366c7a4dd0",
   "metadata": {},
   "outputs": [],
   "source": [
    "myarr = np.array([[1,2,3],[4,5,6],[43,52,5],[245,3,2],[543,2,2]],dtype='float32')"
   ]
  },
  {
   "cell_type": "code",
   "execution_count": 68,
   "id": "be1f50df-a322-4fee-a6e3-d1db4660fbc6",
   "metadata": {},
   "outputs": [
    {
     "data": {
      "text/plain": [
       "array([[  1.,   2.,   3.],\n",
       "       [  4.,   5.,   6.],\n",
       "       [ 43.,  52.,   5.],\n",
       "       [245.,   3.,   2.],\n",
       "       [543.,   2.,   2.]], dtype=float32)"
      ]
     },
     "execution_count": 68,
     "metadata": {},
     "output_type": "execute_result"
    }
   ],
   "source": [
    "myarr\n"
   ]
  },
  {
   "cell_type": "code",
   "execution_count": 76,
   "id": "20c09f19-2f3d-43be-9e83-dc330e5671ac",
   "metadata": {},
   "outputs": [],
   "source": [
    "n=myarr.astype('float64')"
   ]
  },
  {
   "cell_type": "code",
   "execution_count": 78,
   "id": "84d44128-336e-4cb5-bbbc-95365fa895cd",
   "metadata": {},
   "outputs": [
    {
     "data": {
      "text/plain": [
       "dtype('float64')"
      ]
     },
     "execution_count": 78,
     "metadata": {},
     "output_type": "execute_result"
    }
   ],
   "source": [
    "n.dtype\n"
   ]
  },
  {
   "cell_type": "code",
   "execution_count": 82,
   "id": "ce131b06-efcc-4646-9078-92634e0febff",
   "metadata": {},
   "outputs": [
    {
     "data": {
      "text/plain": [
       "dtype('float32')"
      ]
     },
     "execution_count": 82,
     "metadata": {},
     "output_type": "execute_result"
    }
   ],
   "source": [
    "myarr.dtype"
   ]
  },
  {
   "cell_type": "code",
   "execution_count": 84,
   "id": "db2d03e8-5b07-43b3-9a3d-c070fa59fcd9",
   "metadata": {},
   "outputs": [],
   "source": [
    "myarr = np.array([[1,2,3],[4,5,6],[43,52,5],[245,3,2]])"
   ]
  },
  {
   "cell_type": "code",
   "execution_count": 86,
   "id": "a2723be0-09ba-4ae4-befe-ec91cc68020d",
   "metadata": {},
   "outputs": [
    {
     "data": {
      "text/plain": [
       "(4, 3)"
      ]
     },
     "execution_count": 86,
     "metadata": {},
     "output_type": "execute_result"
    }
   ],
   "source": [
    "myarr.shape"
   ]
  },
  {
   "cell_type": "code",
   "execution_count": 92,
   "id": "2f605c51-5908-4127-bacb-6bc9e608fd7b",
   "metadata": {},
   "outputs": [],
   "source": [
    "reshaped = myarr.reshape((3,4)) #3 row , 4 columns"
   ]
  },
  {
   "cell_type": "code",
   "execution_count": 90,
   "id": "05371b78-81e0-4556-b43d-d75b2bae784b",
   "metadata": {},
   "outputs": [
    {
     "data": {
      "text/plain": [
       "array([[  1,   2,   3,   4],\n",
       "       [  5,   6,  43,  52],\n",
       "       [  5, 245,   3,   2]])"
      ]
     },
     "execution_count": 90,
     "metadata": {},
     "output_type": "execute_result"
    }
   ],
   "source": [
    "reshaped"
   ]
  },
  {
   "cell_type": "code",
   "execution_count": 94,
   "id": "f2e0a010-fd6f-493f-905c-eb558eca0c53",
   "metadata": {},
   "outputs": [
    {
     "data": {
      "text/plain": [
       "array([[  1,   2,   3],\n",
       "       [  4,   5,   6],\n",
       "       [ 43,  52,   5],\n",
       "       [245,   3,   2]])"
      ]
     },
     "execution_count": 94,
     "metadata": {},
     "output_type": "execute_result"
    }
   ],
   "source": [
    "myarr"
   ]
  },
  {
   "cell_type": "code",
   "execution_count": 96,
   "id": "fb747f3e-d4b8-4bc9-86f5-0e4e675c2e28",
   "metadata": {},
   "outputs": [],
   "source": [
    "#myarr.reshape((4,5)) # not possible bcoz total array element is 12"
   ]
  },
  {
   "cell_type": "code",
   "execution_count": null,
   "id": "52e91d71-5f5d-4e50-a777-3bf57543f681",
   "metadata": {},
   "outputs": [],
   "source": []
  }
 ],
 "metadata": {
  "kernelspec": {
   "display_name": "Python 3 (ipykernel)",
   "language": "python",
   "name": "python3"
  },
  "language_info": {
   "codemirror_mode": {
    "name": "ipython",
    "version": 3
   },
   "file_extension": ".py",
   "mimetype": "text/x-python",
   "name": "python",
   "nbconvert_exporter": "python",
   "pygments_lexer": "ipython3",
   "version": "3.12.4"
  }
 },
 "nbformat": 4,
 "nbformat_minor": 5
}
